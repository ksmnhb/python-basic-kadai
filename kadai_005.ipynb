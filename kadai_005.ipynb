{
  "nbformat": 4,
  "nbformat_minor": 0,
  "metadata": {
    "colab": {
      "provenance": []
    },
    "kernelspec": {
      "name": "python3",
      "display_name": "Python 3"
    },
    "language_info": {
      "name": "python"
    }
  },
  "cells": [
    {
      "cell_type": "code",
      "execution_count": 3,
      "metadata": {
        "colab": {
          "base_uri": "https://localhost:8080/"
        },
        "id": "tep3r-kCzxXM",
        "outputId": "20a41a3a-efec-401f-afd9-1c80e2e819f0"
      },
      "outputs": [
        {
          "output_type": "stream",
          "name": "stdout",
          "text": [
            "75.0㎠\n"
          ]
        }
      ],
      "source": [
        "torapzium_top = 10\n",
        "torapzium_under = 20\n",
        "torapzium_tall = 5\n",
        "\n",
        "torapzium_area = (torapzium_top + torapzium_under) * torapzium_tall / 2\n",
        "\n",
        "print(f\"{torapzium_area}㎠\")"
      ]
    }
  ]
}